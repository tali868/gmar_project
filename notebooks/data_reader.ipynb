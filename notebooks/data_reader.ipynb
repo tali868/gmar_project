{
 "cells": [
  {
   "cell_type": "code",
   "execution_count": 1,
   "id": "3557ccb2",
   "metadata": {
    "ExecuteTime": {
     "end_time": "2023-05-11T08:05:16.191147Z",
     "start_time": "2023-05-11T08:05:09.782787Z"
    }
   },
   "outputs": [],
   "source": [
    "import pandas as pd\n",
    "\n",
    "import torch\n",
    "import torch.nn as nn\n",
    "import torch.nn.functional as F"
   ]
  },
  {
   "cell_type": "code",
   "execution_count": 98,
   "id": "b66eb51f",
   "metadata": {
    "ExecuteTime": {
     "end_time": "2023-05-03T12:08:50.822744Z",
     "start_time": "2023-05-03T12:08:42.401057Z"
    }
   },
   "outputs": [],
   "source": [
    "all_points_df = pd.read_csv(\"enriched_destinations.csv\")"
   ]
  },
  {
   "cell_type": "code",
   "execution_count": 99,
   "id": "0afec4ec",
   "metadata": {
    "ExecuteTime": {
     "end_time": "2023-05-03T12:08:50.828054Z",
     "start_time": "2023-05-03T12:08:50.824662Z"
    },
    "scrolled": true
   },
   "outputs": [
    {
     "data": {
      "text/plain": [
       "Index(['vessel_id', 'ts', 'destination', 'resolved_dest', 'next_pc', 'match',\n",
       "       'activities', 'name', 'size', 'flag', 'next_pc_name', 'next_pc_country',\n",
       "       'resolved_name', 'resolved_country'],\n",
       "      dtype='object')"
      ]
     },
     "execution_count": 99,
     "metadata": {},
     "output_type": "execute_result"
    }
   ],
   "source": [
    "all_points_df.columns"
   ]
  },
  {
   "cell_type": "code",
   "execution_count": 4,
   "id": "94ac2c97",
   "metadata": {
    "ExecuteTime": {
     "end_time": "2023-04-04T09:21:05.078214Z",
     "start_time": "2023-04-04T09:21:04.937288Z"
    }
   },
   "outputs": [],
   "source": [
    "del all_points_df"
   ]
  },
  {
   "cell_type": "markdown",
   "id": "5d68ba0f",
   "metadata": {},
   "source": [
    "# get ports"
   ]
  },
  {
   "cell_type": "code",
   "execution_count": null,
   "id": "fb67e368",
   "metadata": {
    "ExecuteTime": {
     "end_time": "2023-03-06T12:11:43.680491Z",
     "start_time": "2023-03-06T12:11:43.632827Z"
    },
    "scrolled": false
   },
   "outputs": [],
   "source": [
    "all_points_df[[\"vessel_id\", \"next_pc\", \"next_pc_name\"]][1500:1550]"
   ]
  },
  {
   "cell_type": "code",
   "execution_count": null,
   "id": "b9be55e8",
   "metadata": {},
   "outputs": [],
   "source": []
  },
  {
   "cell_type": "code",
   "execution_count": null,
   "id": "a12067d2",
   "metadata": {},
   "outputs": [],
   "source": []
  },
  {
   "cell_type": "code",
   "execution_count": null,
   "id": "dc41bb83",
   "metadata": {},
   "outputs": [],
   "source": []
  },
  {
   "cell_type": "markdown",
   "id": "cf1dc087",
   "metadata": {
    "heading_collapsed": true
   },
   "source": [
    "# get vessels"
   ]
  },
  {
   "cell_type": "code",
   "execution_count": null,
   "id": "04fa5f8c",
   "metadata": {
    "ExecuteTime": {
     "end_time": "2023-03-05T12:51:33.427309Z",
     "start_time": "2023-03-05T12:51:33.339246Z"
    },
    "hidden": true
   },
   "outputs": [],
   "source": [
    "all_vessels = list(all_points_df[\"vessel_id\"].unique())"
   ]
  },
  {
   "cell_type": "code",
   "execution_count": null,
   "id": "e11c7c75",
   "metadata": {
    "ExecuteTime": {
     "end_time": "2023-03-05T12:51:47.396501Z",
     "start_time": "2023-03-05T12:51:47.393221Z"
    },
    "hidden": true
   },
   "outputs": [],
   "source": [
    "len(all_vessels)"
   ]
  },
  {
   "cell_type": "code",
   "execution_count": null,
   "id": "b0c6f876",
   "metadata": {
    "ExecuteTime": {
     "end_time": "2023-03-05T13:59:40.226974Z",
     "start_time": "2023-03-05T13:59:40.222773Z"
    },
    "hidden": true
   },
   "outputs": [],
   "source": [
    "all_vessels[:40]"
   ]
  },
  {
   "cell_type": "code",
   "execution_count": null,
   "id": "bf31ed0e",
   "metadata": {
    "hidden": true
   },
   "outputs": [],
   "source": [
    "class_to_int = {v: i for i, v in enumerate(all_vessels)}"
   ]
  },
  {
   "cell_type": "code",
   "execution_count": null,
   "id": "c1ed5e3b",
   "metadata": {
    "hidden": true
   },
   "outputs": [],
   "source": [
    "num_classes = len(classes)\n",
    "embedding_dim = 16  # change here after experimenting"
   ]
  },
  {
   "cell_type": "code",
   "execution_count": null,
   "id": "f6d3ccbe",
   "metadata": {
    "code_folding": [
     0
    ],
    "hidden": true
   },
   "outputs": [],
   "source": [
    "class VesselEmbNeuralNetwork(nn.Module):\n",
    "    def __init__(self, vocab_size, embedding_dim, context_size):\n",
    "        super(VesselEmbNeuralNetwork, self).__init__()\n",
    "        # This is our holy embedding layer\n",
    "        self.embedding = nn.Embedding(vocab_size, embedding_dim)\n",
    "\n",
    "        # This is a transformer layer. It contains encoder and decoder\n",
    "        self.transformer = nn.Transformer(d_model, nhead, num_layers)\n",
    "        \n",
    "        # These are two fully connected layers\n",
    "        self.linear1 = nn.Linear(context_size * embedding_dim, 128)\n",
    "        self.linear2 = nn.Linear(128, vocab_size)\n",
    "\n",
    "    def forward(self, inputs):\n",
    "        # Pass input through the embedding layer\n",
    "        embed = self.embedding(inputs)\n",
    "\n",
    "        # Pass input through the hidden layer\n",
    "        out = F.relu(self.linear1(embeds))\n",
    "        # Pass input through the final linear layer\n",
    "        out = self.linear2(out)\n",
    "        return x\n",
    "\n",
    "# Initialize the model\n",
    "vocab_size = len(all_vessels)\n",
    "d_model = 50\n",
    "nhead = 2\n",
    "num_layers = 3\n",
    "model = Transformer(vocab_size, d_model, nhead, num_layers)"
   ]
  },
  {
   "cell_type": "markdown",
   "id": "517a5025",
   "metadata": {},
   "source": [
    "# Playground"
   ]
  },
  {
   "cell_type": "code",
   "execution_count": 2,
   "id": "e58a4077",
   "metadata": {
    "ExecuteTime": {
     "end_time": "2023-05-11T08:05:41.300148Z",
     "start_time": "2023-05-11T08:05:35.204138Z"
    }
   },
   "outputs": [],
   "source": [
    "all_points_df = pd.read_csv(\"enriched_destinations_DL.csv\")"
   ]
  },
  {
   "cell_type": "code",
   "execution_count": 3,
   "id": "21e65143",
   "metadata": {
    "ExecuteTime": {
     "end_time": "2023-05-11T08:05:46.219777Z",
     "start_time": "2023-05-11T08:05:46.195981Z"
    },
    "scrolled": false
   },
   "outputs": [
    {
     "data": {
      "text/html": [
       "<div>\n",
       "<style scoped>\n",
       "    .dataframe tbody tr th:only-of-type {\n",
       "        vertical-align: middle;\n",
       "    }\n",
       "\n",
       "    .dataframe tbody tr th {\n",
       "        vertical-align: top;\n",
       "    }\n",
       "\n",
       "    .dataframe thead th {\n",
       "        text-align: right;\n",
       "    }\n",
       "</style>\n",
       "<table border=\"1\" class=\"dataframe\">\n",
       "  <thead>\n",
       "    <tr style=\"text-align: right;\">\n",
       "      <th></th>\n",
       "      <th>vessel_id</th>\n",
       "      <th>ts</th>\n",
       "      <th>destination</th>\n",
       "      <th>pc_before</th>\n",
       "      <th>pc_at</th>\n",
       "      <th>name</th>\n",
       "      <th>size</th>\n",
       "      <th>flag</th>\n",
       "      <th>pc_at_name</th>\n",
       "      <th>pc_at_country</th>\n",
       "      <th>pc_before_name</th>\n",
       "      <th>pc_before_country</th>\n",
       "    </tr>\n",
       "  </thead>\n",
       "  <tbody>\n",
       "    <tr>\n",
       "      <th>0</th>\n",
       "      <td>5905c345f222b84c4814fcaf</td>\n",
       "      <td>2020-01-24 03:46:33</td>\n",
       "      <td>INCCU</td>\n",
       "      <td>5358fc78b68ca120a07dbd3d</td>\n",
       "      <td>5358fc78b68ca120a07dbc9f</td>\n",
       "      <td>X-PRESS HOOGLY</td>\n",
       "      <td>155.0</td>\n",
       "      <td>Singapore</td>\n",
       "      <td>Kolkata</td>\n",
       "      <td>India</td>\n",
       "      <td>Krishnapatnam</td>\n",
       "      <td>India</td>\n",
       "    </tr>\n",
       "    <tr>\n",
       "      <th>1</th>\n",
       "      <td>5905c345f222b84c4814fcaf</td>\n",
       "      <td>2020-01-13 13:18:22</td>\n",
       "      <td>LKCMB</td>\n",
       "      <td>5358fc78b68ca120a07dbc79</td>\n",
       "      <td>5358fc78b68ca120a07dbc79</td>\n",
       "      <td>X-PRESS HOOGLY</td>\n",
       "      <td>155.0</td>\n",
       "      <td>Singapore</td>\n",
       "      <td>Colombo</td>\n",
       "      <td>SriLanka</td>\n",
       "      <td>Colombo</td>\n",
       "      <td>SriLanka</td>\n",
       "    </tr>\n",
       "    <tr>\n",
       "      <th>2</th>\n",
       "      <td>5905c345f222b84c4814fcaf</td>\n",
       "      <td>2020-01-09 19:06:33</td>\n",
       "      <td>INKRI</td>\n",
       "      <td>5358fc78b68ca120a07dbc79</td>\n",
       "      <td>5358fc78b68ca120a07dbc79</td>\n",
       "      <td>X-PRESS HOOGLY</td>\n",
       "      <td>155.0</td>\n",
       "      <td>Singapore</td>\n",
       "      <td>Colombo</td>\n",
       "      <td>SriLanka</td>\n",
       "      <td>Colombo</td>\n",
       "      <td>SriLanka</td>\n",
       "    </tr>\n",
       "  </tbody>\n",
       "</table>\n",
       "</div>"
      ],
      "text/plain": [
       "                  vessel_id                   ts destination  \\\n",
       "0  5905c345f222b84c4814fcaf  2020-01-24 03:46:33       INCCU   \n",
       "1  5905c345f222b84c4814fcaf  2020-01-13 13:18:22       LKCMB   \n",
       "2  5905c345f222b84c4814fcaf  2020-01-09 19:06:33       INKRI   \n",
       "\n",
       "                  pc_before                     pc_at            name   size  \\\n",
       "0  5358fc78b68ca120a07dbd3d  5358fc78b68ca120a07dbc9f  X-PRESS HOOGLY  155.0   \n",
       "1  5358fc78b68ca120a07dbc79  5358fc78b68ca120a07dbc79  X-PRESS HOOGLY  155.0   \n",
       "2  5358fc78b68ca120a07dbc79  5358fc78b68ca120a07dbc79  X-PRESS HOOGLY  155.0   \n",
       "\n",
       "        flag pc_at_name pc_at_country  pc_before_name pc_before_country  \n",
       "0  Singapore    Kolkata         India  Krishnapatnam              India  \n",
       "1  Singapore    Colombo      SriLanka         Colombo          SriLanka  \n",
       "2  Singapore    Colombo      SriLanka         Colombo          SriLanka  "
      ]
     },
     "execution_count": 3,
     "metadata": {},
     "output_type": "execute_result"
    }
   ],
   "source": [
    "all_points_df[:3]"
   ]
  },
  {
   "cell_type": "code",
   "execution_count": 4,
   "id": "fe62d527",
   "metadata": {
    "ExecuteTime": {
     "end_time": "2023-05-11T08:05:49.582677Z",
     "start_time": "2023-05-11T08:05:49.541096Z"
    }
   },
   "outputs": [],
   "source": [
    "big_vessels_df = all_points_df.query('size > 300')"
   ]
  },
  {
   "cell_type": "code",
   "execution_count": 8,
   "id": "77443545",
   "metadata": {
    "ExecuteTime": {
     "end_time": "2023-05-11T08:07:46.798870Z",
     "start_time": "2023-05-11T08:07:46.790787Z"
    },
    "scrolled": true
   },
   "outputs": [],
   "source": [
    "new_vessels = list(big_vessels_df.sample(n=40, random_state=7)[\"vessel_id\"])"
   ]
  },
  {
   "cell_type": "code",
   "execution_count": 9,
   "id": "8efbede0",
   "metadata": {
    "ExecuteTime": {
     "end_time": "2023-05-11T08:07:49.083532Z",
     "start_time": "2023-05-11T08:07:49.079844Z"
    },
    "scrolled": true
   },
   "outputs": [
    {
     "data": {
      "text/plain": [
       "['5905d632e96ea26157dae1b8',\n",
       " '5908648e3b802b7915d08e5a',\n",
       " '595ab9686979c95dcc89d23f',\n",
       " '5905c783f283df4c80522b82',\n",
       " '5906702a995702146d4a921d',\n",
       " '590804d29b07d86f0a143ad7',\n",
       " '595a96179be35e7116aeeae2',\n",
       " '5905c3501a5a0f4c621fa579',\n",
       " '5cdc4555cf240f674e78ca12',\n",
       " '5906929c515c081f57c20dbe',\n",
       " '5907be0b0ed6156407c8aaac',\n",
       " '590703f40328b73b64dc2aed',\n",
       " '5905c34971379e57e1460f9c',\n",
       " '5905c40be40cb74c8b4dccf1',\n",
       " '5905c40a9cbb2558466a663b',\n",
       " '5cdc4555cf240f674e78ca12',\n",
       " '5905c34bbdadeb58d51c1543',\n",
       " '598230961469da591a399952',\n",
       " '5905c34ba696e258790228a2',\n",
       " '59070ab6fd93b94e06549dcc',\n",
       " '5905d7ad9b07d860ba613d07',\n",
       " '5905c34b9b07d858949c8f86',\n",
       " '5905c349994bab4c56278e9d',\n",
       " '5906c6f40b58c0793bd1c87f',\n",
       " '5905c34fd3721c4c44818ffb',\n",
       " '5905c34639be534c53009b37',\n",
       " '590b458cdd2b843f21b1f7cc',\n",
       " '5905c3501a5a0f4c621fa579',\n",
       " '5bd1dcfcb91374184f3a036b',\n",
       " '59ee682107d2fb195eb73704',\n",
       " '5905c34e2fdb875836697b2f',\n",
       " '590ab403fc32e72635d68206',\n",
       " '5905c5ed2f24b14c5d77b15a',\n",
       " '61d86b3e01f79c4d6d06e6a4',\n",
       " '59097cbb1f91142c02dce33f',\n",
       " '5905c34ba696e258790228a2',\n",
       " '5c408c854708dc0f5b33bcb0',\n",
       " '5906d54b2f24b126a7482ae6',\n",
       " '59076f6c1a5a0f578bd3c848',\n",
       " '5905c5f081e6d85847ced07b']"
      ]
     },
     "execution_count": 9,
     "metadata": {},
     "output_type": "execute_result"
    }
   ],
   "source": [
    "new_vessels"
   ]
  },
  {
   "cell_type": "code",
   "execution_count": 130,
   "id": "15a60c07",
   "metadata": {
    "ExecuteTime": {
     "end_time": "2023-05-11T08:42:51.587070Z",
     "start_time": "2023-05-11T08:42:51.475033Z"
    },
    "scrolled": true
   },
   "outputs": [
    {
     "data": {
      "text/html": [
       "<div>\n",
       "<style scoped>\n",
       "    .dataframe tbody tr th:only-of-type {\n",
       "        vertical-align: middle;\n",
       "    }\n",
       "\n",
       "    .dataframe tbody tr th {\n",
       "        vertical-align: top;\n",
       "    }\n",
       "\n",
       "    .dataframe thead th {\n",
       "        text-align: right;\n",
       "    }\n",
       "</style>\n",
       "<table border=\"1\" class=\"dataframe\">\n",
       "  <thead>\n",
       "    <tr style=\"text-align: right;\">\n",
       "      <th></th>\n",
       "      <th>vessel_id</th>\n",
       "      <th>ts</th>\n",
       "      <th>destination</th>\n",
       "      <th>pc_before</th>\n",
       "      <th>pc_at</th>\n",
       "      <th>name</th>\n",
       "      <th>size</th>\n",
       "      <th>flag</th>\n",
       "      <th>pc_at_name</th>\n",
       "      <th>pc_at_country</th>\n",
       "      <th>pc_before_name</th>\n",
       "      <th>pc_before_country</th>\n",
       "    </tr>\n",
       "  </thead>\n",
       "  <tbody>\n",
       "    <tr>\n",
       "      <th>206902</th>\n",
       "      <td>5905c349994bab4c56278e9d</td>\n",
       "      <td>2020-07-01 00:00:00</td>\n",
       "      <td>SGSIN</td>\n",
       "      <td>5fe891a959431f434b3bbc55</td>\n",
       "      <td>591852ef8d54876cb3f80f2d</td>\n",
       "      <td>NILEDUTCH LION</td>\n",
       "      <td>333.0</td>\n",
       "      <td>Liberia</td>\n",
       "      <td>Tanjong Penjuru</td>\n",
       "      <td>Singapore</td>\n",
       "      <td>Port Klang</td>\n",
       "      <td>Malaysia</td>\n",
       "    </tr>\n",
       "    <tr>\n",
       "      <th>206903</th>\n",
       "      <td>5905c349994bab4c56278e9d</td>\n",
       "      <td>2020-07-21 08:32:15</td>\n",
       "      <td>KRIBI</td>\n",
       "      <td>591852ef8d54876cb3f80f2d</td>\n",
       "      <td>5358fc77b68ca120a07db604</td>\n",
       "      <td>NILEDUTCH LION</td>\n",
       "      <td>333.0</td>\n",
       "      <td>Liberia</td>\n",
       "      <td>Pointe Noire</td>\n",
       "      <td>Congo</td>\n",
       "      <td>Tanjong Penjuru</td>\n",
       "      <td>Singapore</td>\n",
       "    </tr>\n",
       "    <tr>\n",
       "      <th>206904</th>\n",
       "      <td>5905c349994bab4c56278e9d</td>\n",
       "      <td>2020-07-15 14:48:35</td>\n",
       "      <td>MYTPP</td>\n",
       "      <td>5358fc78b68ca120a07dba89</td>\n",
       "      <td>553caeb6d4e6a49b3fb0d1e1</td>\n",
       "      <td>NILEDUTCH LION</td>\n",
       "      <td>333.0</td>\n",
       "      <td>Liberia</td>\n",
       "      <td>Tanjung Bin / Port Tanjung Pelepas</td>\n",
       "      <td>Malaysia</td>\n",
       "      <td>Nansha Port</td>\n",
       "      <td>China</td>\n",
       "    </tr>\n",
       "    <tr>\n",
       "      <th>206905</th>\n",
       "      <td>5905c349994bab4c56278e9d</td>\n",
       "      <td>2020-07-22 18:07:07</td>\n",
       "      <td>CMKBI</td>\n",
       "      <td>591852ef8d54876cb3f80f2d</td>\n",
       "      <td>5358fc77b68ca120a07db604</td>\n",
       "      <td>NILEDUTCH LION</td>\n",
       "      <td>333.0</td>\n",
       "      <td>Liberia</td>\n",
       "      <td>Pointe Noire</td>\n",
       "      <td>Congo</td>\n",
       "      <td>Tanjong Penjuru</td>\n",
       "      <td>Singapore</td>\n",
       "    </tr>\n",
       "    <tr>\n",
       "      <th>206906</th>\n",
       "      <td>5905c349994bab4c56278e9d</td>\n",
       "      <td>2020-07-21 09:13:10</td>\n",
       "      <td>CMKIBI</td>\n",
       "      <td>591852ef8d54876cb3f80f2d</td>\n",
       "      <td>5358fc77b68ca120a07db604</td>\n",
       "      <td>NILEDUTCH LION</td>\n",
       "      <td>333.0</td>\n",
       "      <td>Liberia</td>\n",
       "      <td>Pointe Noire</td>\n",
       "      <td>Congo</td>\n",
       "      <td>Tanjong Penjuru</td>\n",
       "      <td>Singapore</td>\n",
       "    </tr>\n",
       "    <tr>\n",
       "      <th>...</th>\n",
       "      <td>...</td>\n",
       "      <td>...</td>\n",
       "      <td>...</td>\n",
       "      <td>...</td>\n",
       "      <td>...</td>\n",
       "      <td>...</td>\n",
       "      <td>...</td>\n",
       "      <td>...</td>\n",
       "      <td>...</td>\n",
       "      <td>...</td>\n",
       "      <td>...</td>\n",
       "      <td>...</td>\n",
       "    </tr>\n",
       "    <tr>\n",
       "      <th>207098</th>\n",
       "      <td>5905c349994bab4c56278e9d</td>\n",
       "      <td>2022-07-23 21:10:46</td>\n",
       "      <td>NAWVB</td>\n",
       "      <td>5358fc78b68ca120a07dba18</td>\n",
       "      <td>5358fc78b68ca120a07db934</td>\n",
       "      <td>NILEDUTCH LION</td>\n",
       "      <td>333.0</td>\n",
       "      <td>Liberia</td>\n",
       "      <td>Walvis Bay</td>\n",
       "      <td>Namibia</td>\n",
       "      <td>Cape Town</td>\n",
       "      <td>SouthAfrica</td>\n",
       "    </tr>\n",
       "    <tr>\n",
       "      <th>207099</th>\n",
       "      <td>5905c349994bab4c56278e9d</td>\n",
       "      <td>2022-07-04 12:34:12</td>\n",
       "      <td>SGSIN</td>\n",
       "      <td>553caeb6d4e6a49b3fb0d1e1</td>\n",
       "      <td>591852ef8d54876cb3f80f2d</td>\n",
       "      <td>NILEDUTCH LION</td>\n",
       "      <td>333.0</td>\n",
       "      <td>Liberia</td>\n",
       "      <td>Tanjong Penjuru</td>\n",
       "      <td>Singapore</td>\n",
       "      <td>Tanjung Bin / Port Tanjung Pelepas</td>\n",
       "      <td>Malaysia</td>\n",
       "    </tr>\n",
       "    <tr>\n",
       "      <th>207100</th>\n",
       "      <td>5905c349994bab4c56278e9d</td>\n",
       "      <td>2022-07-05 10:55:15</td>\n",
       "      <td>ZACPT</td>\n",
       "      <td>591852ef8d54876cb3f80f2d</td>\n",
       "      <td>5358fc78b68ca120a07dba18</td>\n",
       "      <td>NILEDUTCH LION</td>\n",
       "      <td>333.0</td>\n",
       "      <td>Liberia</td>\n",
       "      <td>Cape Town</td>\n",
       "      <td>SouthAfrica</td>\n",
       "      <td>Tanjong Penjuru</td>\n",
       "      <td>Singapore</td>\n",
       "    </tr>\n",
       "    <tr>\n",
       "      <th>207101</th>\n",
       "      <td>5905c349994bab4c56278e9d</td>\n",
       "      <td>2022-07-26 21:45:11</td>\n",
       "      <td>CGPNR</td>\n",
       "      <td>5358fc78b68ca120a07db934</td>\n",
       "      <td>5358fc77b68ca120a07db604</td>\n",
       "      <td>NILEDUTCH LION</td>\n",
       "      <td>333.0</td>\n",
       "      <td>Liberia</td>\n",
       "      <td>Pointe Noire</td>\n",
       "      <td>Congo</td>\n",
       "      <td>Walvis Bay</td>\n",
       "      <td>Namibia</td>\n",
       "    </tr>\n",
       "    <tr>\n",
       "      <th>207102</th>\n",
       "      <td>5905c349994bab4c56278e9d</td>\n",
       "      <td>2022-07-31 14:50:27</td>\n",
       "      <td>AOLAD</td>\n",
       "      <td>5358fc77b68ca120a07db604</td>\n",
       "      <td>54880c9b2f16092e9efe87df</td>\n",
       "      <td>NILEDUTCH LION</td>\n",
       "      <td>333.0</td>\n",
       "      <td>Liberia</td>\n",
       "      <td>Luanda</td>\n",
       "      <td>Angola</td>\n",
       "      <td>Pointe Noire</td>\n",
       "      <td>Congo</td>\n",
       "    </tr>\n",
       "  </tbody>\n",
       "</table>\n",
       "<p>201 rows × 12 columns</p>\n",
       "</div>"
      ],
      "text/plain": [
       "                       vessel_id                   ts destination  \\\n",
       "206902  5905c349994bab4c56278e9d  2020-07-01 00:00:00       SGSIN   \n",
       "206903  5905c349994bab4c56278e9d  2020-07-21 08:32:15       KRIBI   \n",
       "206904  5905c349994bab4c56278e9d  2020-07-15 14:48:35       MYTPP   \n",
       "206905  5905c349994bab4c56278e9d  2020-07-22 18:07:07       CMKBI   \n",
       "206906  5905c349994bab4c56278e9d  2020-07-21 09:13:10      CMKIBI   \n",
       "...                          ...                  ...         ...   \n",
       "207098  5905c349994bab4c56278e9d  2022-07-23 21:10:46       NAWVB   \n",
       "207099  5905c349994bab4c56278e9d  2022-07-04 12:34:12       SGSIN   \n",
       "207100  5905c349994bab4c56278e9d  2022-07-05 10:55:15       ZACPT   \n",
       "207101  5905c349994bab4c56278e9d  2022-07-26 21:45:11       CGPNR   \n",
       "207102  5905c349994bab4c56278e9d  2022-07-31 14:50:27       AOLAD   \n",
       "\n",
       "                       pc_before                     pc_at            name  \\\n",
       "206902  5fe891a959431f434b3bbc55  591852ef8d54876cb3f80f2d  NILEDUTCH LION   \n",
       "206903  591852ef8d54876cb3f80f2d  5358fc77b68ca120a07db604  NILEDUTCH LION   \n",
       "206904  5358fc78b68ca120a07dba89  553caeb6d4e6a49b3fb0d1e1  NILEDUTCH LION   \n",
       "206905  591852ef8d54876cb3f80f2d  5358fc77b68ca120a07db604  NILEDUTCH LION   \n",
       "206906  591852ef8d54876cb3f80f2d  5358fc77b68ca120a07db604  NILEDUTCH LION   \n",
       "...                          ...                       ...             ...   \n",
       "207098  5358fc78b68ca120a07dba18  5358fc78b68ca120a07db934  NILEDUTCH LION   \n",
       "207099  553caeb6d4e6a49b3fb0d1e1  591852ef8d54876cb3f80f2d  NILEDUTCH LION   \n",
       "207100  591852ef8d54876cb3f80f2d  5358fc78b68ca120a07dba18  NILEDUTCH LION   \n",
       "207101  5358fc78b68ca120a07db934  5358fc77b68ca120a07db604  NILEDUTCH LION   \n",
       "207102  5358fc77b68ca120a07db604  54880c9b2f16092e9efe87df  NILEDUTCH LION   \n",
       "\n",
       "         size     flag                          pc_at_name pc_at_country  \\\n",
       "206902  333.0  Liberia                     Tanjong Penjuru     Singapore   \n",
       "206903  333.0  Liberia                        Pointe Noire         Congo   \n",
       "206904  333.0  Liberia  Tanjung Bin / Port Tanjung Pelepas      Malaysia   \n",
       "206905  333.0  Liberia                        Pointe Noire         Congo   \n",
       "206906  333.0  Liberia                        Pointe Noire         Congo   \n",
       "...       ...      ...                                 ...           ...   \n",
       "207098  333.0  Liberia                          Walvis Bay       Namibia   \n",
       "207099  333.0  Liberia                     Tanjong Penjuru     Singapore   \n",
       "207100  333.0  Liberia                           Cape Town   SouthAfrica   \n",
       "207101  333.0  Liberia                        Pointe Noire         Congo   \n",
       "207102  333.0  Liberia                              Luanda        Angola   \n",
       "\n",
       "                            pc_before_name pc_before_country  \n",
       "206902                          Port Klang          Malaysia  \n",
       "206903                     Tanjong Penjuru         Singapore  \n",
       "206904                         Nansha Port             China  \n",
       "206905                     Tanjong Penjuru         Singapore  \n",
       "206906                     Tanjong Penjuru         Singapore  \n",
       "...                                    ...               ...  \n",
       "207098                           Cape Town       SouthAfrica  \n",
       "207099  Tanjung Bin / Port Tanjung Pelepas          Malaysia  \n",
       "207100                     Tanjong Penjuru         Singapore  \n",
       "207101                          Walvis Bay           Namibia  \n",
       "207102                        Pointe Noire             Congo  \n",
       "\n",
       "[201 rows x 12 columns]"
      ]
     },
     "execution_count": 130,
     "metadata": {},
     "output_type": "execute_result"
    }
   ],
   "source": [
    "all_points_df[all_points_df[\"vessel_id\"] == \"5905c349994bab4c56278e9d\"]"
   ]
  },
  {
   "cell_type": "code",
   "execution_count": 131,
   "id": "0e483b9a",
   "metadata": {
    "ExecuteTime": {
     "end_time": "2023-05-11T08:42:57.522635Z",
     "start_time": "2023-05-11T08:42:57.330218Z"
    }
   },
   "outputs": [
    {
     "data": {
      "text/plain": [
       "18"
      ]
     },
     "execution_count": 131,
     "metadata": {},
     "output_type": "execute_result"
    }
   ],
   "source": [
    "x = set(list(all_points_df[all_points_df[\"vessel_id\"] == \"5905c349994bab4c56278e9d\"][\"pc_at\"].unique()))\n",
    "y = set(list(all_points_df[all_points_df[\"vessel_id\"] == \"5905c349994bab4c56278e9d\"][\"pc_before\"].unique()))\n",
    "vessel_ports = x.union(y)\n",
    "len(vessel_ports)"
   ]
  },
  {
   "cell_type": "code",
   "execution_count": 132,
   "id": "febb2550",
   "metadata": {
    "ExecuteTime": {
     "end_time": "2023-05-11T08:42:57.675307Z",
     "start_time": "2023-05-11T08:42:57.668944Z"
    }
   },
   "outputs": [],
   "source": [
    "unique_ports = ['57459203000cad0168e18723', '5358fc78b68ca120a07dbcd2', '5358fc78b68ca120a07dbc33', '5358fc78b68ca120a07db7d1', '5358fc78b68ca120a07dbbd9', '5358fc78b68ca120a07dbc39', '5358fc78b68ca120a07dbc93', '5358fc78b68ca120a07dbce5', '5fe87b75c62841432fdc6180', '5358fc78b68ca120a07dbaef', '5358fc78b68ca120a07dbcff', '5358fc78b68ca120a07dbc66', '5358fc78b68ca120a07dbc38', '5358fc78b68ca120a07dbc61', '5358fc78b68ca120a07dbce1', '5358fc78b68ca120a07dbaeb', '5358fc78b68ca120a07dbcb2', '5358fc78b68ca120a07dbbcc', '5358fc78b68ca120a07dbba4', '5358fc78b68ca120a07dbcec', '5358fc77b68ca120a07db3dd', '553caeb6d4e6a49b3fb0d1e1', '5358fc78b68ca120a07dbca3', '5358fc78b68ca120a07dbbbc', '5358fc78b68ca120a07dba8b', '5358fc78b68ca120a07dbb1c', '5358fc77b68ca120a07db299', '5358fc78b68ca120a07dbcfb', '5358fc78b68ca120a07dbcf7', '5fe8aeb2c62841432fdc6188', '5358fc78b68ca120a07dbc82', '5358fc78b68ca120a07dbbbb', '5358fc78b68ca120a07dbc67', '54880c9b2f16092e9efe872e', '5358fc78b68ca120a07dbcce', '55b5d0da2f9be5a605f67b45', '54880a1a2f16092e9efe61e5', '5358fc78b68ca120a07dbcd7', '5358fc78b68ca120a07dbbbe', '54880c9b2f16092e9efe8a32', '5358fc78b68ca120a07db9d3', '5358fc78b68ca120a07dbcf0', '54880c9b2f16092e9efe869f', '5358fc78b68ca120a07dbc52', '5358fc78b68ca120a07dbcfa', '59b7a2ebf30b8b0449d23e47', '5358fc78b68ca120a07dbcfe', '5358fc78b68ca120a07dbbaa', '5358fc78b68ca120a07db85c', '5ff1f6df0957da434434a514', '5358fc78b68ca120a07dbb15', '5fe891a959431f434b3bbc55', '5358fc78b68ca120a07dba6c', '562cc82a8c0e57be50751ec1', '5358fc78b68ca120a07dbcf5', '5358fc78b68ca120a07dbb2a', '54880c9b2f16092e9efe8a30', '5358fc78b68ca120a07dba6e', '5b73e1491d467758014984a2', '5358fc78b68ca120a07dbadd', '5358fc78b68ca120a07dbce0', '5358fc78b68ca120a07dbce2', '5358fc78b68ca120a07dbafe', '5358fc78b68ca120a07db9d1', '5fe641e3c550f02111f60cf1', '5358fc78b68ca120a07db7f1', '5358fc78b68ca120a07dbc70', '5358fc78b68ca120a07dbc8b', '5358fc78b68ca120a07dbca7', '5358fc78b68ca120a07db9c1', '5358fc78b68ca120a07dbcbb', '5358fc78b68ca120a07dba39', '5358fc77b68ca120a07db123', '5358fc78b68ca120a07dbace', '5358fc78b68ca120a07dbccb', '5358fc78b68ca120a07dba17', '5358fc78b68ca120a07dbcdf', '57445c8c000cad0168e1871b', '5358fc78b68ca120a07dbb4f', '5358fc78b68ca120a07dbc4a',\n",
    "                '5358fc78b68ca120a07dbc80', '5358fc78b68ca120a07dbca1', '535e1c3f306e47f72147bf9d', '5358fc78b68ca120a07dbb7f', '5fe884cc0957da434434a504', '5358fc78b68ca120a07dbced', '5358fc78b68ca120a07dbb36', '5358fc78b68ca120a07dbc6e', '5358fc78b68ca120a07dbc71', '5ff1f53643bb313cfee522d8', '5358fc78b68ca120a07dbc92', '5358fc78b68ca120a07dbc7c', '5358fc78b68ca120a07dbc84', '5360a148ff6151232c1c25c5', '5358fc78b68ca120a07dbcf2', '5358fc78b68ca120a07db9b8', '5358fc78b68ca120a07dbb38', '5358fc78b68ca120a07dba89', '57b4738cc8cb2100641095d6', '5358fc78b68ca120a07dbc9e', '5358fc78b68ca120a07dbbd0', '55ffde03301130eb6aeb08ee', '5358fc78b68ca120a07dbc28', '54880c9b2f16092e9efe8a43', '5358fc78b68ca120a07dbacd', '5358fc77b68ca120a07db0a1', '5358fc78b68ca120a07dbb9e', '54a5207d9370ca7b69371294', '53720b4f57b2d3980edf9bfa', '5de771cb9cfeec59a0141541', '5358fc78b68ca120a07dbc74', '562cee3e0e3899c5504201c1', '5358fc78b68ca120a07dbd22', '5358fc78b68ca120a07dba53', '5358fc78b68ca120a07dbc79', '5358fc78b68ca120a07dbb76', '5358fc78b68ca120a07dbafc', '5358fc78b68ca120a07dbc89', '5358fc78b68ca120a07dbb95', '54880a1a2f16092e9efe61e4', '57d56059376b25d85e857807', '5358fc78b68ca120a07dbd00', '5358fc78b68ca120a07dbae8', '5358fc78b68ca120a07dbcac', '5fe89bca62e5fd434e77136f', '591852ef8d54876cb3f80f2d', '5358fc78b68ca120a07dbd56', '5358fc78b68ca120a07dba13', '5358fc78b68ca120a07dbce4', '5358fc78b68ca120a07dbb2c', '5358fc78b68ca120a07db9f4', '5fe876ac62e5fd434e771368', '5358fc78b68ca120a07db9a8', '5358fc78b68ca120a07dba81', '5358fc78b68ca120a07dbca5', '5358fc78b68ca120a07dbbdc', '5358fc78b68ca120a07dbc5e', '5358fc78b68ca120a07dbcd8', '5358fc78b68ca120a07dbcdd', '5358fc78b68ca120a07dbc86', '59184624ec50ca6ca1b36cad', '57d15450376b25d85e8577a4', '5358fc78b68ca120a07dbb55', '5358fc78b68ca120a07dbcc0', '5358fc78b68ca120a07db9ba', '5358fc78b68ca120a07dbcf6', '5358fc78b68ca120a07dbc4b', '54880c9b2f16092e9efe89b6', '5358fc78b68ca120a07dbc6a', '5358fc78b68ca120a07db9cf', '5358fc78b68ca120a07dbcf3', '5358fc78b68ca120a07dba05', '5358fc78b68ca120a07dbca6', '5358fc78b68ca120a07dba69', '5358fc78b68ca120a07dba18', '5358fc77b68ca120a07db3ee', '5fe899715cdad06f5173fd91', '5358fc78b68ca120a07dbd24', '5358fc78b68ca120a07dbbe6', '5358fc78b68ca120a07dba91']"
   ]
  },
  {
   "cell_type": "code",
   "execution_count": 133,
   "id": "14c5ecdb",
   "metadata": {
    "ExecuteTime": {
     "end_time": "2023-05-11T08:42:57.985128Z",
     "start_time": "2023-05-11T08:42:57.981873Z"
    }
   },
   "outputs": [
    {
     "data": {
      "text/plain": [
       "14"
      ]
     },
     "execution_count": 133,
     "metadata": {},
     "output_type": "execute_result"
    }
   ],
   "source": [
    "len(vessel_ports.intersection(set(unique_ports)))"
   ]
  },
  {
   "cell_type": "code",
   "execution_count": 136,
   "id": "a808725f",
   "metadata": {
    "ExecuteTime": {
     "end_time": "2023-05-11T08:44:03.529928Z",
     "start_time": "2023-05-11T08:44:03.527128Z"
    }
   },
   "outputs": [],
   "source": [
    "new_vessels_to_add = [\"595ab9686979c95dcc89d23f\", \"5905d632e96ea26157dae1b8\", \"5908648e3b802b7915d08e5a\", \n",
    "                 \"595a96179be35e7116aeeae2\", \"5905c34ba696e258790228a2\", \"5c408c854708dc0f5b33bcb0\", \n",
    "                 \"5906d54b2f24b126a7482ae6\", \"59076f6c1a5a0f578bd3c848\", \"5905c5f081e6d85847ced07b\",\n",
    "                 \"590ab403fc32e72635d68206\", \"59ee682107d2fb195eb73704\", \"5bd1dcfcb91374184f3a036b\",\n",
    "                 \"5905c3501a5a0f4c621fa579\", \"5905c34639be534c53009b37\", \"5905c34fd3721c4c44818ffb\",\n",
    "                 \"59070ab6fd93b94e06549dcc\", \"59097cbb1f91142c02dce33f\", \"5905c5ed2f24b14c5d77b15a\",\n",
    "                 \"590b458cdd2b843f21b1f7cc\", \"5906c6f40b58c0793bd1c87f\"]"
   ]
  },
  {
   "cell_type": "code",
   "execution_count": 137,
   "id": "a632c19f",
   "metadata": {
    "ExecuteTime": {
     "end_time": "2023-05-11T08:44:04.106094Z",
     "start_time": "2023-05-11T08:44:04.102608Z"
    },
    "scrolled": true
   },
   "outputs": [
    {
     "data": {
      "text/plain": [
       "20"
      ]
     },
     "execution_count": 137,
     "metadata": {},
     "output_type": "execute_result"
    }
   ],
   "source": [
    "len(list(set(new_vessels_to_add) - set(existing_vessels)))"
   ]
  },
  {
   "cell_type": "code",
   "execution_count": 140,
   "id": "8971aab4",
   "metadata": {
    "ExecuteTime": {
     "end_time": "2023-05-11T08:44:33.343329Z",
     "start_time": "2023-05-11T08:44:33.340852Z"
    }
   },
   "outputs": [],
   "source": [
    "random_vessels = list(set(new_vessels_to_add) - set(existing_vessels))"
   ]
  },
  {
   "cell_type": "code",
   "execution_count": 141,
   "id": "2cbd2e37",
   "metadata": {
    "ExecuteTime": {
     "end_time": "2023-05-11T08:44:37.680299Z",
     "start_time": "2023-05-11T08:44:37.665118Z"
    },
    "scrolled": false
   },
   "outputs": [],
   "source": [
    "random_vessels_df = big_vessels_df[big_vessels_df[\"vessel_id\"].isin(random_vessels)]"
   ]
  },
  {
   "cell_type": "code",
   "execution_count": 142,
   "id": "0ef3bba6",
   "metadata": {
    "ExecuteTime": {
     "end_time": "2023-05-11T08:44:41.047689Z",
     "start_time": "2023-05-11T08:44:41.044003Z"
    }
   },
   "outputs": [
    {
     "data": {
      "text/plain": [
       "Index(['vessel_id', 'ts', 'destination', 'pc_before', 'pc_at', 'name', 'size',\n",
       "       'flag', 'pc_at_name', 'pc_at_country', 'pc_before_name',\n",
       "       'pc_before_country'],\n",
       "      dtype='object')"
      ]
     },
     "execution_count": 142,
     "metadata": {},
     "output_type": "execute_result"
    }
   ],
   "source": [
    "random_vessels_df.columns"
   ]
  },
  {
   "cell_type": "code",
   "execution_count": 143,
   "id": "6c21bb46",
   "metadata": {
    "ExecuteTime": {
     "end_time": "2023-05-11T08:44:45.827205Z",
     "start_time": "2023-05-11T08:44:45.821003Z"
    },
    "scrolled": true
   },
   "outputs": [
    {
     "name": "stderr",
     "output_type": "stream",
     "text": [
      "/mnt/xvdb/python-envs/research_lib___dev/lib/python3.6/site-packages/ipykernel_launcher.py:1: SettingWithCopyWarning: \n",
      "A value is trying to be set on a copy of a slice from a DataFrame\n",
      "\n",
      "See the caveats in the documentation: https://pandas.pydata.org/pandas-docs/stable/user_guide/indexing.html#returning-a-view-versus-a-copy\n",
      "  \"\"\"Entry point for launching an IPython kernel.\n"
     ]
    }
   ],
   "source": [
    "random_vessels_df.dropna(subset=['pc_before', 'pc_at'], inplace=True)"
   ]
  },
  {
   "cell_type": "code",
   "execution_count": 144,
   "id": "36d8c15d",
   "metadata": {
    "ExecuteTime": {
     "end_time": "2023-05-11T08:44:49.577740Z",
     "start_time": "2023-05-11T08:44:49.571375Z"
    },
    "scrolled": true
   },
   "outputs": [],
   "source": [
    "random_vessels_df = random_vessels_df.sort_values('ts', ascending=True)"
   ]
  },
  {
   "cell_type": "code",
   "execution_count": 145,
   "id": "c56a412b",
   "metadata": {
    "ExecuteTime": {
     "end_time": "2023-05-11T08:44:50.511176Z",
     "start_time": "2023-05-11T08:44:50.494212Z"
    }
   },
   "outputs": [
    {
     "data": {
      "text/html": [
       "<div>\n",
       "<style scoped>\n",
       "    .dataframe tbody tr th:only-of-type {\n",
       "        vertical-align: middle;\n",
       "    }\n",
       "\n",
       "    .dataframe tbody tr th {\n",
       "        vertical-align: top;\n",
       "    }\n",
       "\n",
       "    .dataframe thead th {\n",
       "        text-align: right;\n",
       "    }\n",
       "</style>\n",
       "<table border=\"1\" class=\"dataframe\">\n",
       "  <thead>\n",
       "    <tr style=\"text-align: right;\">\n",
       "      <th></th>\n",
       "      <th>vessel_id</th>\n",
       "      <th>ts</th>\n",
       "      <th>destination</th>\n",
       "      <th>pc_before</th>\n",
       "      <th>pc_at</th>\n",
       "      <th>name</th>\n",
       "      <th>size</th>\n",
       "      <th>flag</th>\n",
       "      <th>pc_at_name</th>\n",
       "      <th>pc_at_country</th>\n",
       "      <th>pc_before_name</th>\n",
       "      <th>pc_before_country</th>\n",
       "    </tr>\n",
       "  </thead>\n",
       "  <tbody>\n",
       "    <tr>\n",
       "      <th>1281451</th>\n",
       "      <td>590b458cdd2b843f21b1f7cc</td>\n",
       "      <td>2020-01-03 23:04:04</td>\n",
       "      <td>NL RTM</td>\n",
       "      <td>57b4738cc8cb2100641095d6</td>\n",
       "      <td>5358fc78b68ca120a07dbcf7</td>\n",
       "      <td>GUAYAQUIL EXPRESS</td>\n",
       "      <td>333.0</td>\n",
       "      <td>Germany</td>\n",
       "      <td>Rotterdam</td>\n",
       "      <td>Netherlands</td>\n",
       "      <td>Caucedo</td>\n",
       "      <td>DominicanRepublic</td>\n",
       "    </tr>\n",
       "    <tr>\n",
       "      <th>1146731</th>\n",
       "      <td>5905c34fd3721c4c44818ffb</td>\n",
       "      <td>2020-01-04 00:28:10</td>\n",
       "      <td>GBLGP</td>\n",
       "      <td>5358fc78b68ca120a07dbb2a</td>\n",
       "      <td>5358fc78b68ca120a07dbca7</td>\n",
       "      <td>SEASPAN OCEANIA</td>\n",
       "      <td>334.0</td>\n",
       "      <td>HongKong</td>\n",
       "      <td>London</td>\n",
       "      <td>UnitedKingdom</td>\n",
       "      <td>Mersin</td>\n",
       "      <td>Turkey</td>\n",
       "    </tr>\n",
       "    <tr>\n",
       "      <th>334136</th>\n",
       "      <td>59097cbb1f91142c02dce33f</td>\n",
       "      <td>2020-01-05 11:43:49</td>\n",
       "      <td>CRISTOBAL</td>\n",
       "      <td>5fe899715cdad06f5173fd91</td>\n",
       "      <td>54880a1a2f16092e9efe61e4</td>\n",
       "      <td>HYUNDAI SATURN</td>\n",
       "      <td>324.0</td>\n",
       "      <td>UnitedKingdom</td>\n",
       "      <td>Panama Canal</td>\n",
       "      <td>Panama</td>\n",
       "      <td>Rodman</td>\n",
       "      <td>Panama</td>\n",
       "    </tr>\n",
       "    <tr>\n",
       "      <th>559066</th>\n",
       "      <td>59ee682107d2fb195eb73704</td>\n",
       "      <td>2020-01-05 13:46:11</td>\n",
       "      <td>PL GDN</td>\n",
       "      <td>5358fc78b68ca120a07dbc5e</td>\n",
       "      <td>5358fc78b68ca120a07dbc84</td>\n",
       "      <td>OOCL SCANDINAVIA</td>\n",
       "      <td>400.0</td>\n",
       "      <td>HongKong</td>\n",
       "      <td>Gdansk</td>\n",
       "      <td>Poland</td>\n",
       "      <td>Bruges-Zeebrugge</td>\n",
       "      <td>Belgium</td>\n",
       "    </tr>\n",
       "    <tr>\n",
       "      <th>1237679</th>\n",
       "      <td>595ab9686979c95dcc89d23f</td>\n",
       "      <td>2020-01-06 16:48:40</td>\n",
       "      <td>EG SUEZ</td>\n",
       "      <td>5358fc78b68ca120a07dbc79</td>\n",
       "      <td>54880a1a2f16092e9efe61e5</td>\n",
       "      <td>TAIPEI TRIUMPH</td>\n",
       "      <td>366.0</td>\n",
       "      <td>Singapore</td>\n",
       "      <td>Suez Canal</td>\n",
       "      <td>Egypt</td>\n",
       "      <td>Colombo</td>\n",
       "      <td>SriLanka</td>\n",
       "    </tr>\n",
       "    <tr>\n",
       "      <th>...</th>\n",
       "      <td>...</td>\n",
       "      <td>...</td>\n",
       "      <td>...</td>\n",
       "      <td>...</td>\n",
       "      <td>...</td>\n",
       "      <td>...</td>\n",
       "      <td>...</td>\n",
       "      <td>...</td>\n",
       "      <td>...</td>\n",
       "      <td>...</td>\n",
       "      <td>...</td>\n",
       "      <td>...</td>\n",
       "    </tr>\n",
       "    <tr>\n",
       "      <th>456121</th>\n",
       "      <td>5905c3501a5a0f4c621fa579</td>\n",
       "      <td>2022-09-02 10:26:33</td>\n",
       "      <td>SGSGP</td>\n",
       "      <td>5fe891a959431f434b3bbc55</td>\n",
       "      <td>591852ef8d54876cb3f80f2d</td>\n",
       "      <td>CMA CGM LAPEROUSE</td>\n",
       "      <td>366.0</td>\n",
       "      <td>Malta</td>\n",
       "      <td>Tanjong Penjuru</td>\n",
       "      <td>Singapore</td>\n",
       "      <td>Port Klang</td>\n",
       "      <td>Malaysia</td>\n",
       "    </tr>\n",
       "    <tr>\n",
       "      <th>456125</th>\n",
       "      <td>5905c3501a5a0f4c621fa579</td>\n",
       "      <td>2022-09-02 11:52:47</td>\n",
       "      <td>SGSIN PWBGA</td>\n",
       "      <td>5fe891a959431f434b3bbc55</td>\n",
       "      <td>591852ef8d54876cb3f80f2d</td>\n",
       "      <td>CMA CGM LAPEROUSE</td>\n",
       "      <td>366.0</td>\n",
       "      <td>Malta</td>\n",
       "      <td>Tanjong Penjuru</td>\n",
       "      <td>Singapore</td>\n",
       "      <td>Port Klang</td>\n",
       "      <td>Malaysia</td>\n",
       "    </tr>\n",
       "    <tr>\n",
       "      <th>619839</th>\n",
       "      <td>595a96179be35e7116aeeae2</td>\n",
       "      <td>2022-09-03 20:36:29</td>\n",
       "      <td>MXLZC</td>\n",
       "      <td>5358fc78b68ca120a07dbcf6</td>\n",
       "      <td>5358fc78b68ca120a07dbcf6</td>\n",
       "      <td>MSC AVNI</td>\n",
       "      <td>314.0</td>\n",
       "      <td>Liberia</td>\n",
       "      <td>Oakland</td>\n",
       "      <td>UnitedStates</td>\n",
       "      <td>Oakland</td>\n",
       "      <td>UnitedStates</td>\n",
       "    </tr>\n",
       "    <tr>\n",
       "      <th>1355610</th>\n",
       "      <td>5c408c854708dc0f5b33bcb0</td>\n",
       "      <td>2022-09-04 04:26:26</td>\n",
       "      <td>NLRTM</td>\n",
       "      <td>54880a1a2f16092e9efe61e5</td>\n",
       "      <td>5358fc78b68ca120a07dbcf7</td>\n",
       "      <td>YM WELLSPRING</td>\n",
       "      <td>366.0</td>\n",
       "      <td>Panama</td>\n",
       "      <td>Rotterdam</td>\n",
       "      <td>Netherlands</td>\n",
       "      <td>Suez Canal</td>\n",
       "      <td>Egypt</td>\n",
       "    </tr>\n",
       "    <tr>\n",
       "      <th>619842</th>\n",
       "      <td>595a96179be35e7116aeeae2</td>\n",
       "      <td>2022-09-04 10:53:34</td>\n",
       "      <td>MXZLO</td>\n",
       "      <td>5358fc78b68ca120a07dbcf6</td>\n",
       "      <td>5358fc78b68ca120a07dbcf6</td>\n",
       "      <td>MSC AVNI</td>\n",
       "      <td>314.0</td>\n",
       "      <td>Liberia</td>\n",
       "      <td>Oakland</td>\n",
       "      <td>UnitedStates</td>\n",
       "      <td>Oakland</td>\n",
       "      <td>UnitedStates</td>\n",
       "    </tr>\n",
       "  </tbody>\n",
       "</table>\n",
       "<p>4009 rows × 12 columns</p>\n",
       "</div>"
      ],
      "text/plain": [
       "                        vessel_id                   ts  destination  \\\n",
       "1281451  590b458cdd2b843f21b1f7cc  2020-01-03 23:04:04       NL RTM   \n",
       "1146731  5905c34fd3721c4c44818ffb  2020-01-04 00:28:10        GBLGP   \n",
       "334136   59097cbb1f91142c02dce33f  2020-01-05 11:43:49    CRISTOBAL   \n",
       "559066   59ee682107d2fb195eb73704  2020-01-05 13:46:11       PL GDN   \n",
       "1237679  595ab9686979c95dcc89d23f  2020-01-06 16:48:40      EG SUEZ   \n",
       "...                           ...                  ...          ...   \n",
       "456121   5905c3501a5a0f4c621fa579  2022-09-02 10:26:33        SGSGP   \n",
       "456125   5905c3501a5a0f4c621fa579  2022-09-02 11:52:47  SGSIN PWBGA   \n",
       "619839   595a96179be35e7116aeeae2  2022-09-03 20:36:29        MXLZC   \n",
       "1355610  5c408c854708dc0f5b33bcb0  2022-09-04 04:26:26        NLRTM   \n",
       "619842   595a96179be35e7116aeeae2  2022-09-04 10:53:34        MXZLO   \n",
       "\n",
       "                        pc_before                     pc_at  \\\n",
       "1281451  57b4738cc8cb2100641095d6  5358fc78b68ca120a07dbcf7   \n",
       "1146731  5358fc78b68ca120a07dbb2a  5358fc78b68ca120a07dbca7   \n",
       "334136   5fe899715cdad06f5173fd91  54880a1a2f16092e9efe61e4   \n",
       "559066   5358fc78b68ca120a07dbc5e  5358fc78b68ca120a07dbc84   \n",
       "1237679  5358fc78b68ca120a07dbc79  54880a1a2f16092e9efe61e5   \n",
       "...                           ...                       ...   \n",
       "456121   5fe891a959431f434b3bbc55  591852ef8d54876cb3f80f2d   \n",
       "456125   5fe891a959431f434b3bbc55  591852ef8d54876cb3f80f2d   \n",
       "619839   5358fc78b68ca120a07dbcf6  5358fc78b68ca120a07dbcf6   \n",
       "1355610  54880a1a2f16092e9efe61e5  5358fc78b68ca120a07dbcf7   \n",
       "619842   5358fc78b68ca120a07dbcf6  5358fc78b68ca120a07dbcf6   \n",
       "\n",
       "                      name   size           flag       pc_at_name  \\\n",
       "1281451  GUAYAQUIL EXPRESS  333.0        Germany        Rotterdam   \n",
       "1146731    SEASPAN OCEANIA  334.0       HongKong           London   \n",
       "334136      HYUNDAI SATURN  324.0  UnitedKingdom     Panama Canal   \n",
       "559066    OOCL SCANDINAVIA  400.0       HongKong           Gdansk   \n",
       "1237679     TAIPEI TRIUMPH  366.0      Singapore       Suez Canal   \n",
       "...                    ...    ...            ...              ...   \n",
       "456121   CMA CGM LAPEROUSE  366.0          Malta  Tanjong Penjuru   \n",
       "456125   CMA CGM LAPEROUSE  366.0          Malta  Tanjong Penjuru   \n",
       "619839            MSC AVNI  314.0        Liberia          Oakland   \n",
       "1355610      YM WELLSPRING  366.0         Panama        Rotterdam   \n",
       "619842            MSC AVNI  314.0        Liberia          Oakland   \n",
       "\n",
       "         pc_at_country    pc_before_name  pc_before_country  \n",
       "1281451    Netherlands           Caucedo  DominicanRepublic  \n",
       "1146731  UnitedKingdom            Mersin             Turkey  \n",
       "334136          Panama            Rodman             Panama  \n",
       "559066          Poland  Bruges-Zeebrugge            Belgium  \n",
       "1237679          Egypt           Colombo           SriLanka  \n",
       "...                ...               ...                ...  \n",
       "456121       Singapore        Port Klang           Malaysia  \n",
       "456125       Singapore        Port Klang           Malaysia  \n",
       "619839    UnitedStates           Oakland       UnitedStates  \n",
       "1355610    Netherlands        Suez Canal              Egypt  \n",
       "619842    UnitedStates           Oakland       UnitedStates  \n",
       "\n",
       "[4009 rows x 12 columns]"
      ]
     },
     "execution_count": 145,
     "metadata": {},
     "output_type": "execute_result"
    }
   ],
   "source": [
    "random_vessels_df"
   ]
  },
  {
   "cell_type": "code",
   "execution_count": 146,
   "id": "2e332c98",
   "metadata": {
    "ExecuteTime": {
     "end_time": "2023-05-11T08:45:03.980378Z",
     "start_time": "2023-05-11T08:45:03.976553Z"
    }
   },
   "outputs": [],
   "source": [
    "random_vessels_df = random_vessels_df.rename(columns={\"destination\": \"reported_destination\", \n",
    "                                                     \"pc_before\": \"prev_port\",\n",
    "                                                     \"pc_at\": \"curr_port\",\n",
    "                                                     \"pc_before\": \"prev_port\",\n",
    "                                                     \"pc_at_name\": \"curr_port_name\",\n",
    "                                                     \"pc_before_name\": \"prev_port_name\",\n",
    "                                                     \"pc_at_country\": \"curr_port_country\",\n",
    "                                                     \"pc_before_country\": \"prev_port_country\"})"
   ]
  },
  {
   "cell_type": "code",
   "execution_count": 147,
   "id": "92e84410",
   "metadata": {
    "ExecuteTime": {
     "end_time": "2023-05-11T08:45:10.759834Z",
     "start_time": "2023-05-11T08:45:10.753283Z"
    }
   },
   "outputs": [
    {
     "data": {
      "text/plain": [
       "20"
      ]
     },
     "execution_count": 147,
     "metadata": {},
     "output_type": "execute_result"
    }
   ],
   "source": [
    "len(list(random_vessels_df.groupby(\"vessel_id\")))"
   ]
  },
  {
   "cell_type": "code",
   "execution_count": 148,
   "id": "66b2d219",
   "metadata": {
    "ExecuteTime": {
     "end_time": "2023-05-11T08:45:12.301900Z",
     "start_time": "2023-05-11T08:45:12.253251Z"
    }
   },
   "outputs": [],
   "source": [
    "records = random_vessels_df.to_dict(orient='records')"
   ]
  },
  {
   "cell_type": "code",
   "execution_count": 149,
   "id": "cca0ccff",
   "metadata": {
    "ExecuteTime": {
     "end_time": "2023-05-11T08:45:13.963544Z",
     "start_time": "2023-05-11T08:45:13.960005Z"
    }
   },
   "outputs": [
    {
     "data": {
      "text/plain": [
       "{'vessel_id': '590b458cdd2b843f21b1f7cc',\n",
       " 'ts': '2020-01-03 23:04:04',\n",
       " 'reported_destination': 'NL RTM',\n",
       " 'prev_port': '57b4738cc8cb2100641095d6',\n",
       " 'curr_port': '5358fc78b68ca120a07dbcf7',\n",
       " 'name': 'GUAYAQUIL EXPRESS',\n",
       " 'size': 333.0,\n",
       " 'flag': 'Germany',\n",
       " 'curr_port_name': 'Rotterdam',\n",
       " 'curr_port_country': 'Netherlands',\n",
       " 'prev_port_name': 'Caucedo',\n",
       " 'prev_port_country': 'DominicanRepublic'}"
      ]
     },
     "execution_count": 149,
     "metadata": {},
     "output_type": "execute_result"
    }
   ],
   "source": [
    "records[0]"
   ]
  },
  {
   "cell_type": "code",
   "execution_count": 151,
   "id": "9ad34086",
   "metadata": {
    "ExecuteTime": {
     "end_time": "2023-05-11T10:09:33.661130Z",
     "start_time": "2023-05-11T10:09:33.657539Z"
    }
   },
   "outputs": [
    {
     "data": {
      "text/plain": [
       "4009"
      ]
     },
     "execution_count": 151,
     "metadata": {},
     "output_type": "execute_result"
    }
   ],
   "source": [
    "len(records)"
   ]
  },
  {
   "cell_type": "code",
   "execution_count": 150,
   "id": "3f5dad40",
   "metadata": {
    "ExecuteTime": {
     "end_time": "2023-05-11T08:45:27.914596Z",
     "start_time": "2023-05-11T08:45:27.814372Z"
    }
   },
   "outputs": [],
   "source": [
    "with open(\"dataset_20_samples.json\", \"w\") as f:\n",
    "    json.dump(records, f)"
   ]
  },
  {
   "cell_type": "code",
   "execution_count": null,
   "id": "ea48dcd7",
   "metadata": {},
   "outputs": [],
   "source": [
    "ready_dataset = []\n",
    "for record in records:\n",
    "    curr_record = {\"vessel_id\": record[\"vessel_id\"], \"ts\": record[\"ts\"], \n",
    "                   \"flag\": record[\"flag\"], \"size\": record[\"size\"]}\n",
    "    curr_record[\"reported_destination\"] = \n",
    "    curr_record[\"curr_port\"] = curr_record[\"pc_at\"]\n",
    "    curr_record.pop(\"pc_at\")\n",
    "    curr_record[\"prev_port\"] = curr_record[\"pc_before\"]\n",
    "    curr_record.pop(\"pc_before\")\n",
    "    curr_record[\"curr_port_name\"] = curr_record[\"pc_at_name\"]\n",
    "    curr_record.pop(\"pc_at_name\")\n",
    "    curr_record[\"prev_port_name\"] = curr_record[\"pc_before_name\"]\n",
    "    \n",
    "    \n",
    "    "
   ]
  },
  {
   "cell_type": "code",
   "execution_count": 70,
   "id": "865056ab",
   "metadata": {
    "ExecuteTime": {
     "end_time": "2023-04-04T10:25:30.401790Z",
     "start_time": "2023-04-04T10:25:30.399323Z"
    }
   },
   "outputs": [],
   "source": [
    "x = {\"a\": 1, \"b\": 2}"
   ]
  },
  {
   "cell_type": "code",
   "execution_count": 71,
   "id": "700d81b0",
   "metadata": {
    "ExecuteTime": {
     "end_time": "2023-04-04T10:25:34.936303Z",
     "start_time": "2023-04-04T10:25:34.911515Z"
    }
   },
   "outputs": [
    {
     "ename": "AttributeError",
     "evalue": "'dict' object has no attribute 'remove'",
     "output_type": "error",
     "traceback": [
      "\u001b[0;31m---------------------------------------------------------------------------\u001b[0m",
      "\u001b[0;31mAttributeError\u001b[0m                            Traceback (most recent call last)",
      "\u001b[0;32m<ipython-input-71-1d4dfe192819>\u001b[0m in \u001b[0;36m<module>\u001b[0;34m\u001b[0m\n\u001b[0;32m----> 1\u001b[0;31m \u001b[0mx\u001b[0m\u001b[0;34m.\u001b[0m\u001b[0mremove\u001b[0m\u001b[0;34m(\u001b[0m\u001b[0;34m\"a\"\u001b[0m\u001b[0;34m)\u001b[0m\u001b[0;34m\u001b[0m\u001b[0;34m\u001b[0m\u001b[0m\n\u001b[0m",
      "\u001b[0;31mAttributeError\u001b[0m: 'dict' object has no attribute 'remove'"
     ]
    }
   ],
   "source": [
    "x.remove(\"a\")"
   ]
  },
  {
   "cell_type": "code",
   "execution_count": 134,
   "id": "553beb89",
   "metadata": {
    "ExecuteTime": {
     "end_time": "2023-05-11T08:43:47.264789Z",
     "start_time": "2023-05-11T08:43:47.261609Z"
    }
   },
   "outputs": [],
   "source": [
    "existing_vessels = ['5ce4012f50fec070427df2c6', '590804d29b07d86f0a143ad7', '5b96850ecdee8d42a2e2565c', \n",
    "                    '5906864bf283df142930859d', '5c5853b1f1beea54fe2b36c5', '5905d6ea8c5dde60f67e8b52', \n",
    "                    '59083c0d6312aa38b29a2f5c', '5905db1189b14656ae1ac217', '5905c4bf26945158626e3704', \n",
    "                    '5905c34964c8bf5871e67fcd', '5905c40bbdadeb58d51c1dce', '5905c3492fdb8758366979d1', \n",
    "                    '5905c35030559d4c6649b040', '59092e655ffb32548bccec8f', '590667ea778af1121a3d0d7a',\n",
    "                    '5905fb7487f7db66d5826979', '5b56193f9160b5444baef1c6', '5afed34dda4a504127d79c02', \n",
    "                    '5cc5adf0ca149e509dd226ec', '5907a15f5235126ee765f966', '590773a5e7492162543a7531', \n",
    "                    '5905c34c994bab4c56278f37', '5905c34c64c8bf5871e680a0', '5d0d2c33d9edb80d438a2609', \n",
    "                    '5905c34add2b844c5194874a', '590a866afca91d559ae4c5fe', '5905c34be7492158394ae27d', \n",
    "                    '5905c35099570258886e7b15', '5905c347ca83c24c8075c596', '5905c40ad3721c4c44819633', \n",
    "                    '5905c4c0994bab4c56279939']"
   ]
  },
  {
   "cell_type": "code",
   "execution_count": null,
   "id": "655a6356",
   "metadata": {},
   "outputs": [],
   "source": []
  },
  {
   "cell_type": "code",
   "execution_count": null,
   "id": "c41e0392",
   "metadata": {},
   "outputs": [],
   "source": []
  }
 ],
 "metadata": {
  "hide_input": false,
  "kernelspec": {
   "display_name": "Python 3",
   "language": "python",
   "name": "python3"
  },
  "language_info": {
   "codemirror_mode": {
    "name": "ipython",
    "version": 3
   },
   "file_extension": ".py",
   "mimetype": "text/x-python",
   "name": "python",
   "nbconvert_exporter": "python",
   "pygments_lexer": "ipython3",
   "version": "3.6.9"
  },
  "toc": {
   "base_numbering": 1,
   "nav_menu": {},
   "number_sections": true,
   "sideBar": true,
   "skip_h1_title": false,
   "title_cell": "Table of Contents",
   "title_sidebar": "Contents",
   "toc_cell": false,
   "toc_position": {},
   "toc_section_display": true,
   "toc_window_display": false
  }
 },
 "nbformat": 4,
 "nbformat_minor": 5
}
